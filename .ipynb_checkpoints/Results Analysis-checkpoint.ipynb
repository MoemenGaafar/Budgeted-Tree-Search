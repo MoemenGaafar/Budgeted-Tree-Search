{
 "cells": [
  {
   "cell_type": "code",
   "execution_count": 1,
   "id": "f0076b02",
   "metadata": {
    "scrolled": true
   },
   "outputs": [],
   "source": [
    "import os\n",
    "import numpy as np\n",
    "import pandas as pd\n",
    "import matplotlib.pyplot as plt"
   ]
  },
  {
   "cell_type": "code",
   "execution_count": 2,
   "id": "69c4fae2",
   "metadata": {},
   "outputs": [],
   "source": [
    "def parse_summary(text):\n",
    "    text = text[text.find('Summary'):].strip()\n",
    "    text_list = text.split(';')\n",
    "    for entry in text_list:\n",
    "        if len(entry.strip()) < 1:\n",
    "            continue\n",
    "        entry_list = entry.split()\n",
    "        if 'total_expanded' in entry:\n",
    "            total_expanded = int(entry_list[-1])\n",
    "        elif 'goal_cost' in entry:\n",
    "            goal_cost = float(entry_list[-1])\n",
    "        elif 'time_taken' in entry:\n",
    "            time_taken = float(entry_list[-2])\n",
    "    \n",
    "    return [total_expanded, goal_cost, time_taken]"
   ]
  },
  {
   "cell_type": "code",
   "execution_count": 3,
   "id": "015fa504",
   "metadata": {},
   "outputs": [],
   "source": [
    "def extract_data(data_folder, isBTSNonUnit):\n",
    "    sorted_files = sorted(os.listdir(data_folder), key=lambda x: int(x[x.find('_')+1: x.find('.txt')]))\n",
    "    \n",
    "    if (isBTSNonUnit):\n",
    "        output = [[], []]\n",
    "    else:\n",
    "        output = []\n",
    "        \n",
    "    for file_name in sorted_files:\n",
    "        file_data = open(os.path.join(data_folder, file_name), 'r').read()\n",
    "        if (isBTSNonUnit):\n",
    "            separator_index = file_data.find('--------------')\n",
    "            extracted_data0 = parse_summary(file_data[:separator_index])\n",
    "            extracted_data1 = parse_summary(file_data[separator_index:])\n",
    "            output[0].append(extracted_data0)\n",
    "            output[1].append(extracted_data1)\n",
    "        else:\n",
    "            extracted_data = parse_summary(file_data)\n",
    "            output.append(extracted_data)\n",
    "    \n",
    "    return output"
   ]
  },
  {
   "cell_type": "code",
   "execution_count": 4,
   "id": "4907d553",
   "metadata": {},
   "outputs": [],
   "source": [
    "def extract_optimal_costs(file_path):\n",
    "    file_lines = open(file_path, 'r').readlines()\n",
    "    unit_costs = []\n",
    "    nonunit_costs = []\n",
    "    i = 0\n",
    "    for line in file_lines:\n",
    "        if \"IDA*:\" in line:\n",
    "            for entry in line.strip().split(';'):\n",
    "                entry_list = entry.strip().split()\n",
    "                if 'elapsed' in entry:\n",
    "                    time_taken = float(entry_list[1][:-1])\n",
    "                elif 'expanded' in entry:\n",
    "                    total_expanded = int(entry_list[0])\n",
    "                elif 'length' in entry:\n",
    "                    goal_cost = float(entry_list[-1])\n",
    "                    \n",
    "            unit_costs.append([total_expanded, goal_cost, time_taken])\n",
    "        \n",
    "        elif \"IBEX:\" in line:\n",
    "            i+=1\n",
    "            if i % 2 == 0:\n",
    "                continue\n",
    "            for entry in line.strip().split(';'):\n",
    "                entry_list = entry.strip().split()\n",
    "                if 'elapsed' in entry:\n",
    "                    time_taken = float(entry_list[1][:-1])\n",
    "                elif 'expanded' in entry:\n",
    "                    total_expanded = int(entry_list[0])\n",
    "                elif 'length' in entry:\n",
    "                    goal_cost = float(entry_list[-1])\n",
    "                    \n",
    "            nonunit_costs.append([total_expanded, goal_cost, time_taken])\n",
    "                        \n",
    "    return unit_costs, nonunit_costs"
   ]
  },
  {
   "cell_type": "markdown",
   "id": "4b896c43",
   "metadata": {},
   "source": [
    "# Load data from run transcripts"
   ]
  },
  {
   "cell_type": "code",
   "execution_count": 5,
   "id": "8c0c77eb",
   "metadata": {},
   "outputs": [],
   "source": [
    "IDA_PATH = \"output/IDAstar_unit\"\n",
    "BTSUnit_PATH = \"output/BTS_unit\"\n",
    "BTSNonUnit_PATH = \"output/BTS_nonunit\""
   ]
  },
  {
   "cell_type": "code",
   "execution_count": 6,
   "id": "a1d305b2",
   "metadata": {},
   "outputs": [],
   "source": [
    "IDAstar_data = extract_data(IDA_PATH, False)"
   ]
  },
  {
   "cell_type": "code",
   "execution_count": 7,
   "id": "4630e7ec",
   "metadata": {},
   "outputs": [],
   "source": [
    "BTSUnit_data = extract_data(BTSUnit_PATH, False)"
   ]
  },
  {
   "cell_type": "code",
   "execution_count": 8,
   "id": "4ce07784",
   "metadata": {},
   "outputs": [],
   "source": [
    "BTSNonUnit_data, BTSNonUnitConstWin_data = extract_data(BTSNonUnit_PATH, True)"
   ]
  },
  {
   "cell_type": "code",
   "execution_count": 9,
   "id": "d0347665",
   "metadata": {},
   "outputs": [],
   "source": [
    "unit_optimal_data, non_unit_optimal_data = extract_optimal_costs('optimal_solutions.txt')"
   ]
  },
  {
   "cell_type": "markdown",
   "id": "41eb2f6c",
   "metadata": {},
   "source": [
    "Sanity check:"
   ]
  },
  {
   "cell_type": "code",
   "execution_count": 90,
   "id": "14905ccd",
   "metadata": {},
   "outputs": [],
   "source": [
    "assert len(IDAstar_data) == len(BTSUnit_data) == len(BTSNonUnit_data) == len(BTSNonUnitConstWin_data) \\\n",
    "== len(unit_optimal_data) == len(non_unit_optimal_data) == 100"
   ]
  },
  {
   "cell_type": "markdown",
   "id": "dc332b62",
   "metadata": {},
   "source": [
    "# IDA* and BTS with unit costs"
   ]
  },
  {
   "cell_type": "markdown",
   "id": "9f4d4300",
   "metadata": {},
   "source": [
    "## Correctness"
   ]
  },
  {
   "cell_type": "code",
   "execution_count": 11,
   "id": "6e21b982",
   "metadata": {},
   "outputs": [],
   "source": [
    "for i in range(100):\n",
    "    assert IDAstar_data[i][1] == BTSUnit_data[i][1] == unit_optimal_data[i][1]"
   ]
  },
  {
   "cell_type": "markdown",
   "id": "87482185",
   "metadata": {},
   "source": [
    "## Efficiency"
   ]
  },
  {
   "cell_type": "code",
   "execution_count": 12,
   "id": "391ec4ac",
   "metadata": {},
   "outputs": [],
   "source": [
    "IDAstar_df = pd.DataFrame(IDAstar_data, columns=['Expanded', 'GoalCost', 'Time'])"
   ]
  },
  {
   "cell_type": "code",
   "execution_count": 13,
   "id": "932e920c",
   "metadata": {},
   "outputs": [
    {
     "data": {
      "text/html": [
       "<div>\n",
       "<style scoped>\n",
       "    .dataframe tbody tr th:only-of-type {\n",
       "        vertical-align: middle;\n",
       "    }\n",
       "\n",
       "    .dataframe tbody tr th {\n",
       "        vertical-align: top;\n",
       "    }\n",
       "\n",
       "    .dataframe thead th {\n",
       "        text-align: right;\n",
       "    }\n",
       "</style>\n",
       "<table border=\"1\" class=\"dataframe\">\n",
       "  <thead>\n",
       "    <tr style=\"text-align: right;\">\n",
       "      <th></th>\n",
       "      <th>Expanded</th>\n",
       "      <th>GoalCost</th>\n",
       "      <th>Time</th>\n",
       "    </tr>\n",
       "  </thead>\n",
       "  <tbody>\n",
       "    <tr>\n",
       "      <th>count</th>\n",
       "      <td>1.000000e+02</td>\n",
       "      <td>100.000000</td>\n",
       "      <td>100.000000</td>\n",
       "    </tr>\n",
       "    <tr>\n",
       "      <th>mean</th>\n",
       "      <td>3.463564e+07</td>\n",
       "      <td>53.050000</td>\n",
       "      <td>156.437940</td>\n",
       "    </tr>\n",
       "    <tr>\n",
       "      <th>std</th>\n",
       "      <td>8.267563e+07</td>\n",
       "      <td>5.487129</td>\n",
       "      <td>382.022809</td>\n",
       "    </tr>\n",
       "    <tr>\n",
       "      <th>min</th>\n",
       "      <td>1.049400e+04</td>\n",
       "      <td>41.000000</td>\n",
       "      <td>0.091381</td>\n",
       "    </tr>\n",
       "    <tr>\n",
       "      <th>25%</th>\n",
       "      <td>7.699860e+05</td>\n",
       "      <td>49.750000</td>\n",
       "      <td>4.054015</td>\n",
       "    </tr>\n",
       "    <tr>\n",
       "      <th>50%</th>\n",
       "      <td>5.167986e+06</td>\n",
       "      <td>53.000000</td>\n",
       "      <td>23.015563</td>\n",
       "    </tr>\n",
       "    <tr>\n",
       "      <th>75%</th>\n",
       "      <td>2.200426e+07</td>\n",
       "      <td>57.000000</td>\n",
       "      <td>93.316974</td>\n",
       "    </tr>\n",
       "    <tr>\n",
       "      <th>max</th>\n",
       "      <td>5.398321e+08</td>\n",
       "      <td>66.000000</td>\n",
       "      <td>2589.104371</td>\n",
       "    </tr>\n",
       "  </tbody>\n",
       "</table>\n",
       "</div>"
      ],
      "text/plain": [
       "           Expanded    GoalCost         Time\n",
       "count  1.000000e+02  100.000000   100.000000\n",
       "mean   3.463564e+07   53.050000   156.437940\n",
       "std    8.267563e+07    5.487129   382.022809\n",
       "min    1.049400e+04   41.000000     0.091381\n",
       "25%    7.699860e+05   49.750000     4.054015\n",
       "50%    5.167986e+06   53.000000    23.015563\n",
       "75%    2.200426e+07   57.000000    93.316974\n",
       "max    5.398321e+08   66.000000  2589.104371"
      ]
     },
     "execution_count": 13,
     "metadata": {},
     "output_type": "execute_result"
    }
   ],
   "source": [
    "IDAstar_df.describe()"
   ]
  },
  {
   "cell_type": "code",
   "execution_count": 14,
   "id": "fdb30519",
   "metadata": {},
   "outputs": [],
   "source": [
    "BTSUnit_df = pd.DataFrame(BTSUnit_data, columns=['Expanded', 'GoalCost', 'Time'])"
   ]
  },
  {
   "cell_type": "code",
   "execution_count": 15,
   "id": "0ab5f0c6",
   "metadata": {},
   "outputs": [
    {
     "data": {
      "text/html": [
       "<div>\n",
       "<style scoped>\n",
       "    .dataframe tbody tr th:only-of-type {\n",
       "        vertical-align: middle;\n",
       "    }\n",
       "\n",
       "    .dataframe tbody tr th {\n",
       "        vertical-align: top;\n",
       "    }\n",
       "\n",
       "    .dataframe thead th {\n",
       "        text-align: right;\n",
       "    }\n",
       "</style>\n",
       "<table border=\"1\" class=\"dataframe\">\n",
       "  <thead>\n",
       "    <tr style=\"text-align: right;\">\n",
       "      <th></th>\n",
       "      <th>Expanded</th>\n",
       "      <th>GoalCost</th>\n",
       "      <th>Time</th>\n",
       "    </tr>\n",
       "  </thead>\n",
       "  <tbody>\n",
       "    <tr>\n",
       "      <th>count</th>\n",
       "      <td>1.000000e+02</td>\n",
       "      <td>100.000000</td>\n",
       "      <td>100.000000</td>\n",
       "    </tr>\n",
       "    <tr>\n",
       "      <th>mean</th>\n",
       "      <td>3.463564e+07</td>\n",
       "      <td>53.050000</td>\n",
       "      <td>157.490404</td>\n",
       "    </tr>\n",
       "    <tr>\n",
       "      <th>std</th>\n",
       "      <td>8.267563e+07</td>\n",
       "      <td>5.487129</td>\n",
       "      <td>388.830030</td>\n",
       "    </tr>\n",
       "    <tr>\n",
       "      <th>min</th>\n",
       "      <td>1.049400e+04</td>\n",
       "      <td>41.000000</td>\n",
       "      <td>0.091414</td>\n",
       "    </tr>\n",
       "    <tr>\n",
       "      <th>25%</th>\n",
       "      <td>7.699860e+05</td>\n",
       "      <td>49.750000</td>\n",
       "      <td>3.953372</td>\n",
       "    </tr>\n",
       "    <tr>\n",
       "      <th>50%</th>\n",
       "      <td>5.167986e+06</td>\n",
       "      <td>53.000000</td>\n",
       "      <td>23.010662</td>\n",
       "    </tr>\n",
       "    <tr>\n",
       "      <th>75%</th>\n",
       "      <td>2.200426e+07</td>\n",
       "      <td>57.000000</td>\n",
       "      <td>93.130756</td>\n",
       "    </tr>\n",
       "    <tr>\n",
       "      <th>max</th>\n",
       "      <td>5.398321e+08</td>\n",
       "      <td>66.000000</td>\n",
       "      <td>2698.269314</td>\n",
       "    </tr>\n",
       "  </tbody>\n",
       "</table>\n",
       "</div>"
      ],
      "text/plain": [
       "           Expanded    GoalCost         Time\n",
       "count  1.000000e+02  100.000000   100.000000\n",
       "mean   3.463564e+07   53.050000   157.490404\n",
       "std    8.267563e+07    5.487129   388.830030\n",
       "min    1.049400e+04   41.000000     0.091414\n",
       "25%    7.699860e+05   49.750000     3.953372\n",
       "50%    5.167986e+06   53.000000    23.010662\n",
       "75%    2.200426e+07   57.000000    93.130756\n",
       "max    5.398321e+08   66.000000  2698.269314"
      ]
     },
     "execution_count": 15,
     "metadata": {},
     "output_type": "execute_result"
    }
   ],
   "source": [
    "BTSUnit_df.describe()"
   ]
  },
  {
   "cell_type": "code",
   "execution_count": 16,
   "id": "6456d074",
   "metadata": {},
   "outputs": [],
   "source": [
    "OptimalUnit_df = pd.DataFrame(unit_optimal_data, columns=['Expanded', 'GoalCost', 'Time'])"
   ]
  },
  {
   "cell_type": "code",
   "execution_count": 17,
   "id": "6be65f2f",
   "metadata": {},
   "outputs": [
    {
     "data": {
      "text/html": [
       "<div>\n",
       "<style scoped>\n",
       "    .dataframe tbody tr th:only-of-type {\n",
       "        vertical-align: middle;\n",
       "    }\n",
       "\n",
       "    .dataframe tbody tr th {\n",
       "        vertical-align: top;\n",
       "    }\n",
       "\n",
       "    .dataframe thead th {\n",
       "        text-align: right;\n",
       "    }\n",
       "</style>\n",
       "<table border=\"1\" class=\"dataframe\">\n",
       "  <thead>\n",
       "    <tr style=\"text-align: right;\">\n",
       "      <th></th>\n",
       "      <th>Expanded</th>\n",
       "      <th>GoalCost</th>\n",
       "      <th>Time</th>\n",
       "    </tr>\n",
       "  </thead>\n",
       "  <tbody>\n",
       "    <tr>\n",
       "      <th>count</th>\n",
       "      <td>1.000000e+02</td>\n",
       "      <td>100.000000</td>\n",
       "      <td>100.000000</td>\n",
       "    </tr>\n",
       "    <tr>\n",
       "      <th>mean</th>\n",
       "      <td>2.424608e+08</td>\n",
       "      <td>53.050000</td>\n",
       "      <td>31.968900</td>\n",
       "    </tr>\n",
       "    <tr>\n",
       "      <th>std</th>\n",
       "      <td>9.587023e+08</td>\n",
       "      <td>5.487129</td>\n",
       "      <td>133.693459</td>\n",
       "    </tr>\n",
       "    <tr>\n",
       "      <th>min</th>\n",
       "      <td>7.442400e+04</td>\n",
       "      <td>41.000000</td>\n",
       "      <td>0.010000</td>\n",
       "    </tr>\n",
       "    <tr>\n",
       "      <th>25%</th>\n",
       "      <td>4.344587e+06</td>\n",
       "      <td>49.750000</td>\n",
       "      <td>0.460000</td>\n",
       "    </tr>\n",
       "    <tr>\n",
       "      <th>50%</th>\n",
       "      <td>2.581199e+07</td>\n",
       "      <td>53.000000</td>\n",
       "      <td>2.805000</td>\n",
       "    </tr>\n",
       "    <tr>\n",
       "      <th>75%</th>\n",
       "      <td>1.217943e+08</td>\n",
       "      <td>57.000000</td>\n",
       "      <td>13.212500</td>\n",
       "    </tr>\n",
       "    <tr>\n",
       "      <th>max</th>\n",
       "      <td>8.856207e+09</td>\n",
       "      <td>66.000000</td>\n",
       "      <td>1250.520000</td>\n",
       "    </tr>\n",
       "  </tbody>\n",
       "</table>\n",
       "</div>"
      ],
      "text/plain": [
       "           Expanded    GoalCost         Time\n",
       "count  1.000000e+02  100.000000   100.000000\n",
       "mean   2.424608e+08   53.050000    31.968900\n",
       "std    9.587023e+08    5.487129   133.693459\n",
       "min    7.442400e+04   41.000000     0.010000\n",
       "25%    4.344587e+06   49.750000     0.460000\n",
       "50%    2.581199e+07   53.000000     2.805000\n",
       "75%    1.217943e+08   57.000000    13.212500\n",
       "max    8.856207e+09   66.000000  1250.520000"
      ]
     },
     "execution_count": 17,
     "metadata": {},
     "output_type": "execute_result"
    }
   ],
   "source": [
    "OptimalUnit_df.describe()"
   ]
  },
  {
   "cell_type": "code",
   "execution_count": 30,
   "id": "7f940e88",
   "metadata": {},
   "outputs": [
    {
     "data": {
      "image/png": "[encoded data removed]",
      "text/plain": [
       "<Figure size 640x480 with 1 Axes>"
      ]
     },
     "metadata": {},
     "output_type": "display_data"
    }
   ],
   "source": [
    "plt.boxplot([IDAstar_df['Time'], BTSUnit_df['Time']], showfliers=False)\n",
    "plt.ylabel('Time (seconds)')\n",
    "plt.xticks([1,2], ['IDA*', 'BTS'])\n",
    "plt.show()"
   ]
  },
  {
   "cell_type": "code",
   "execution_count": 31,
   "id": "bf2e5aa9",
   "metadata": {},
   "outputs": [
    {
     "data": {
      "image/png": "[encoded data removed]",
      "text/plain": [
       "<Figure size 640x480 with 1 Axes>"
      ]
     },
     "metadata": {},
     "output_type": "display_data"
    }
   ],
   "source": [
    "plt.boxplot([IDAstar_df['Expanded'], BTSUnit_df['Expanded']], showfliers=False)\n",
    "plt.ylabel('Node Expansions')\n",
    "plt.xticks([1,2], ['IDA*', 'BTS'])\n",
    "plt.show()"
   ]
  },
  {
   "cell_type": "code",
   "execution_count": 33,
   "id": "bd2645a9",
   "metadata": {},
   "outputs": [
    {
     "data": {
      "image/png": "[encoded data removed]",
      "text/plain": [
       "<Figure size 640x480 with 1 Axes>"
      ]
     },
     "metadata": {},
     "output_type": "display_data"
    }
   ],
   "source": [
    "out = IDAstar_df['Time'] / OptimalUnit_df['Time']\n",
    "plt.hist(out)\n",
    "plt.ylabel('Number of Instances')\n",
    "plt.xlabel('Time Factor')\n",
    "plt.show()"
   ]
  },
  {
   "cell_type": "markdown",
   "id": "398b4bba",
   "metadata": {},
   "source": [
    "# BTS with non-unit costs"
   ]
  },
  {
   "cell_type": "code",
   "execution_count": null,
   "id": "9babab9c",
   "metadata": {},
   "outputs": [],
   "source": []
  }
 ],
 "metadata": {
  "kernelspec": {
   "display_name": "Python 3 (ipykernel)",
   "language": "python",
   "name": "python3"
  },
  "language_info": {
   "codemirror_mode": {
    "name": "ipython",
    "version": 3
   },
   "file_extension": ".py",
   "mimetype": "text/x-python",
   "name": "python",
   "nbconvert_exporter": "python",
   "pygments_lexer": "ipython3",
   "version": "3.10.6"
  }
 },
 "nbformat": 4,
 "nbformat_minor": 5
}
