{
 "cells": [
  {
   "cell_type": "code",
   "execution_count": 89,
   "id": "f0076b02",
   "metadata": {
    "scrolled": true
   },
   "outputs": [],
   "source": [
    "import os\n",
    "import numpy as np\n",
    "import pandas as pd\n",
    "import heapq\n",
    "import matplotlib.pyplot as plt"
   ]
  },
  {
   "cell_type": "code",
   "execution_count": 2,
   "id": "69c4fae2",
   "metadata": {},
   "outputs": [],
   "source": [
    "def parse_summary(text):\n",
    "    text = text[text.find('Summary'):].strip()\n",
    "    text_list = text.split(';')\n",
    "    for entry in text_list:\n",
    "        if len(entry.strip()) < 1:\n",
    "            continue\n",
    "        entry_list = entry.split()\n",
    "        if 'total_expanded' in entry:\n",
    "            total_expanded = int(entry_list[-1])\n",
    "        elif 'goal_cost' in entry:\n",
    "            goal_cost = float(entry_list[-1])\n",
    "        elif 'time_taken' in entry:\n",
    "            time_taken = float(entry_list[-2])\n",
    "    \n",
    "    return [total_expanded, goal_cost, time_taken]"
   ]
  },
  {
   "cell_type": "code",
   "execution_count": 3,
   "id": "015fa504",
   "metadata": {},
   "outputs": [],
   "source": [
    "def extract_data(data_folder, isBTSNonUnit):\n",
    "    sorted_files = sorted(os.listdir(data_folder), key=lambda x: int(x[x.find('_')+1: x.find('.txt')]))\n",
    "    \n",
    "    if (isBTSNonUnit):\n",
    "        output = [[], []]\n",
    "    else:\n",
    "        output = []\n",
    "        \n",
    "    for file_name in sorted_files:\n",
    "        file_data = open(os.path.join(data_folder, file_name), 'r').read()\n",
    "        if (isBTSNonUnit):\n",
    "            separator_index = file_data.find('--------------')\n",
    "            extracted_data0 = parse_summary(file_data[:separator_index])\n",
    "            extracted_data1 = parse_summary(file_data[separator_index:])\n",
    "            output[0].append(extracted_data0)\n",
    "            output[1].append(extracted_data1)\n",
    "        else:\n",
    "            extracted_data = parse_summary(file_data)\n",
    "            output.append(extracted_data)\n",
    "    \n",
    "    return output"
   ]
  },
  {
   "cell_type": "code",
   "execution_count": 4,
   "id": "4907d553",
   "metadata": {},
   "outputs": [],
   "source": [
    "def extract_optimal_costs(file_path):\n",
    "    file_lines = open(file_path, 'r').readlines()\n",
    "    unit_costs = []\n",
    "    nonunit_costs = []\n",
    "    i = 0\n",
    "    for line in file_lines:\n",
    "        if \"IDA*:\" in line:\n",
    "            for entry in line.strip().split(';'):\n",
    "                entry_list = entry.strip().split()\n",
    "                if 'elapsed' in entry:\n",
    "                    time_taken = float(entry_list[1][:-1])\n",
    "                elif 'expanded' in entry:\n",
    "                    total_expanded = int(entry_list[0])\n",
    "                elif 'length' in entry:\n",
    "                    goal_cost = float(entry_list[-1])\n",
    "                    \n",
    "            unit_costs.append([total_expanded, goal_cost, time_taken])\n",
    "        \n",
    "        elif \"IBEX:\" in line:\n",
    "            i+=1\n",
    "            if i % 2 == 0:\n",
    "                continue\n",
    "            for entry in line.strip().split(';'):\n",
    "                entry_list = entry.strip().split()\n",
    "                if 'elapsed' in entry:\n",
    "                    time_taken = float(entry_list[1][:-1])\n",
    "                elif 'expanded' in entry:\n",
    "                    total_expanded = int(entry_list[0])\n",
    "                elif 'length' in entry:\n",
    "                    goal_cost = float(entry_list[-1])\n",
    "                    \n",
    "            nonunit_costs.append([total_expanded, goal_cost, time_taken])\n",
    "                        \n",
    "    return unit_costs, nonunit_costs"
   ]
  },
  {
   "cell_type": "markdown",
   "id": "93c41982",
   "metadata": {},
   "source": [
    "# Load data from run transcripts"
   ]
  },
  {
   "cell_type": "code",
   "execution_count": 101,
   "id": "8c0c77eb",
   "metadata": {},
   "outputs": [],
   "source": [
    "IDA_PATH = \"output/IDAstar_unit\"\n",
    "IDANonUnit_PATH = \"output/IDAstar_nonunit\"\n",
    "BTSUnit_PATH = \"output/BTS_unit\"\n",
    "BTSNonUnit_PATH = \"output/BTS_nonunit\""
   ]
  },
  {
   "cell_type": "code",
   "execution_count": 6,
   "id": "a1d305b2",
   "metadata": {},
   "outputs": [],
   "source": [
    "IDAstar_data = extract_data(IDA_PATH, False)"
   ]
  },
  {
   "cell_type": "code",
   "execution_count": 102,
   "id": "f89f2faf",
   "metadata": {},
   "outputs": [],
   "source": [
    "IDAstarNonUnit_data = extract_data(IDANonUnit_PATH, False)"
   ]
  },
  {
   "cell_type": "code",
   "execution_count": 7,
   "id": "4630e7ec",
   "metadata": {},
   "outputs": [],
   "source": [
    "BTSUnit_data = extract_data(BTSUnit_PATH, False)"
   ]
  },
  {
   "cell_type": "code",
   "execution_count": 8,
   "id": "4ce07784",
   "metadata": {},
   "outputs": [],
   "source": [
    "BTSNonUnit_data, BTSNonUnitConstWin_data = extract_data(BTSNonUnit_PATH, True)"
   ]
  },
  {
   "cell_type": "code",
   "execution_count": 132,
   "id": "d0347665",
   "metadata": {},
   "outputs": [],
   "source": [
    "unit_optimal_data, non_unit_optimal_data = extract_optimal_costs('optimal_solutions.txt')"
   ]
  },
  {
   "cell_type": "markdown",
   "id": "9bba26d9",
   "metadata": {},
   "source": [
    "Sanity check:"
   ]
  },
  {
   "cell_type": "code",
   "execution_count": 105,
   "id": "14905ccd",
   "metadata": {},
   "outputs": [],
   "source": [
    "assert len(IDAstar_data) == len(BTSUnit_data) == len(BTSNonUnit_data) == len(BTSNonUnitConstWin_data) \\\n",
    "== len(IDAstarNonUnit_data)*10 == len(unit_optimal_data) == len(non_unit_optimal_data) == 100"
   ]
  },
  {
   "cell_type": "markdown",
   "id": "a02847c1",
   "metadata": {},
   "source": [
    "# IDA* and BTS with unit costs"
   ]
  },
  {
   "cell_type": "markdown",
   "id": "4774958a",
   "metadata": {},
   "source": [
    "## Correctness"
   ]
  },
  {
   "cell_type": "code",
   "execution_count": 11,
   "id": "6e21b982",
   "metadata": {},
   "outputs": [],
   "source": [
    "for i in range(100):\n",
    "    assert IDAstar_data[i][1] == BTSUnit_data[i][1] == unit_optimal_data[i][1]"
   ]
  },
  {
   "cell_type": "markdown",
   "id": "d74c259b",
   "metadata": {},
   "source": [
    "## Efficiency"
   ]
  },
  {
   "cell_type": "code",
   "execution_count": 57,
   "id": "391ec4ac",
   "metadata": {},
   "outputs": [],
   "source": [
    "IDAstar_df = pd.DataFrame(IDAstar_data, columns=['Expanded', 'GoalCost', 'Time'])\n",
    "BTSUnit_df = pd.DataFrame(BTSUnit_data, columns=['Expanded', 'GoalCost', 'Time'])\n",
    "OptimalUnit_df = pd.DataFrame(unit_optimal_data, columns=['Expanded', 'GoalCost', 'Time'])"
   ]
  },
  {
   "cell_type": "code",
   "execution_count": 58,
   "id": "932e920c",
   "metadata": {},
   "outputs": [
    {
     "data": {
      "text/html": [
       "<div>\n",
       "<style scoped>\n",
       "    .dataframe tbody tr th:only-of-type {\n",
       "        vertical-align: middle;\n",
       "    }\n",
       "\n",
       "    .dataframe tbody tr th {\n",
       "        vertical-align: top;\n",
       "    }\n",
       "\n",
       "    .dataframe thead th {\n",
       "        text-align: right;\n",
       "    }\n",
       "</style>\n",
       "<table border=\"1\" class=\"dataframe\">\n",
       "  <thead>\n",
       "    <tr style=\"text-align: right;\">\n",
       "      <th></th>\n",
       "      <th>Expanded</th>\n",
       "      <th>GoalCost</th>\n",
       "      <th>Time</th>\n",
       "    </tr>\n",
       "  </thead>\n",
       "  <tbody>\n",
       "    <tr>\n",
       "      <th>count</th>\n",
       "      <td>1.000000e+02</td>\n",
       "      <td>100.000000</td>\n",
       "      <td>100.000000</td>\n",
       "    </tr>\n",
       "    <tr>\n",
       "      <th>mean</th>\n",
       "      <td>3.463564e+07</td>\n",
       "      <td>53.050000</td>\n",
       "      <td>156.437940</td>\n",
       "    </tr>\n",
       "    <tr>\n",
       "      <th>std</th>\n",
       "      <td>8.267563e+07</td>\n",
       "      <td>5.487129</td>\n",
       "      <td>382.022809</td>\n",
       "    </tr>\n",
       "    <tr>\n",
       "      <th>min</th>\n",
       "      <td>1.049400e+04</td>\n",
       "      <td>41.000000</td>\n",
       "      <td>0.091381</td>\n",
       "    </tr>\n",
       "    <tr>\n",
       "      <th>25%</th>\n",
       "      <td>7.699860e+05</td>\n",
       "      <td>49.750000</td>\n",
       "      <td>4.054015</td>\n",
       "    </tr>\n",
       "    <tr>\n",
       "      <th>50%</th>\n",
       "      <td>5.167986e+06</td>\n",
       "      <td>53.000000</td>\n",
       "      <td>23.015563</td>\n",
       "    </tr>\n",
       "    <tr>\n",
       "      <th>75%</th>\n",
       "      <td>2.200426e+07</td>\n",
       "      <td>57.000000</td>\n",
       "      <td>93.316974</td>\n",
       "    </tr>\n",
       "    <tr>\n",
       "      <th>max</th>\n",
       "      <td>5.398321e+08</td>\n",
       "      <td>66.000000</td>\n",
       "      <td>2589.104371</td>\n",
       "    </tr>\n",
       "  </tbody>\n",
       "</table>\n",
       "</div>"
      ],
      "text/plain": [
       "           Expanded    GoalCost         Time\n",
       "count  1.000000e+02  100.000000   100.000000\n",
       "mean   3.463564e+07   53.050000   156.437940\n",
       "std    8.267563e+07    5.487129   382.022809\n",
       "min    1.049400e+04   41.000000     0.091381\n",
       "25%    7.699860e+05   49.750000     4.054015\n",
       "50%    5.167986e+06   53.000000    23.015563\n",
       "75%    2.200426e+07   57.000000    93.316974\n",
       "max    5.398321e+08   66.000000  2589.104371"
      ]
     },
     "execution_count": 58,
     "metadata": {},
     "output_type": "execute_result"
    }
   ],
   "source": [
    "IDAstar_df.describe()"
   ]
  },
  {
   "cell_type": "code",
   "execution_count": 59,
   "id": "0ab5f0c6",
   "metadata": {},
   "outputs": [
    {
     "data": {
      "text/html": [
       "<div>\n",
       "<style scoped>\n",
       "    .dataframe tbody tr th:only-of-type {\n",
       "        vertical-align: middle;\n",
       "    }\n",
       "\n",
       "    .dataframe tbody tr th {\n",
       "        vertical-align: top;\n",
       "    }\n",
       "\n",
       "    .dataframe thead th {\n",
       "        text-align: right;\n",
       "    }\n",
       "</style>\n",
       "<table border=\"1\" class=\"dataframe\">\n",
       "  <thead>\n",
       "    <tr style=\"text-align: right;\">\n",
       "      <th></th>\n",
       "      <th>Expanded</th>\n",
       "      <th>GoalCost</th>\n",
       "      <th>Time</th>\n",
       "    </tr>\n",
       "  </thead>\n",
       "  <tbody>\n",
       "    <tr>\n",
       "      <th>count</th>\n",
       "      <td>1.000000e+02</td>\n",
       "      <td>100.000000</td>\n",
       "      <td>100.000000</td>\n",
       "    </tr>\n",
       "    <tr>\n",
       "      <th>mean</th>\n",
       "      <td>3.463564e+07</td>\n",
       "      <td>53.050000</td>\n",
       "      <td>157.490404</td>\n",
       "    </tr>\n",
       "    <tr>\n",
       "      <th>std</th>\n",
       "      <td>8.267563e+07</td>\n",
       "      <td>5.487129</td>\n",
       "      <td>388.830030</td>\n",
       "    </tr>\n",
       "    <tr>\n",
       "      <th>min</th>\n",
       "      <td>1.049400e+04</td>\n",
       "      <td>41.000000</td>\n",
       "      <td>0.091414</td>\n",
       "    </tr>\n",
       "    <tr>\n",
       "      <th>25%</th>\n",
       "      <td>7.699860e+05</td>\n",
       "      <td>49.750000</td>\n",
       "      <td>3.953372</td>\n",
       "    </tr>\n",
       "    <tr>\n",
       "      <th>50%</th>\n",
       "      <td>5.167986e+06</td>\n",
       "      <td>53.000000</td>\n",
       "      <td>23.010662</td>\n",
       "    </tr>\n",
       "    <tr>\n",
       "      <th>75%</th>\n",
       "      <td>2.200426e+07</td>\n",
       "      <td>57.000000</td>\n",
       "      <td>93.130756</td>\n",
       "    </tr>\n",
       "    <tr>\n",
       "      <th>max</th>\n",
       "      <td>5.398321e+08</td>\n",
       "      <td>66.000000</td>\n",
       "      <td>2698.269314</td>\n",
       "    </tr>\n",
       "  </tbody>\n",
       "</table>\n",
       "</div>"
      ],
      "text/plain": [
       "           Expanded    GoalCost         Time\n",
       "count  1.000000e+02  100.000000   100.000000\n",
       "mean   3.463564e+07   53.050000   157.490404\n",
       "std    8.267563e+07    5.487129   388.830030\n",
       "min    1.049400e+04   41.000000     0.091414\n",
       "25%    7.699860e+05   49.750000     3.953372\n",
       "50%    5.167986e+06   53.000000    23.010662\n",
       "75%    2.200426e+07   57.000000    93.130756\n",
       "max    5.398321e+08   66.000000  2698.269314"
      ]
     },
     "execution_count": 59,
     "metadata": {},
     "output_type": "execute_result"
    }
   ],
   "source": [
    "BTSUnit_df.describe()"
   ]
  },
  {
   "cell_type": "code",
   "execution_count": 60,
   "id": "6be65f2f",
   "metadata": {},
   "outputs": [
    {
     "data": {
      "text/html": [
       "<div>\n",
       "<style scoped>\n",
       "    .dataframe tbody tr th:only-of-type {\n",
       "        vertical-align: middle;\n",
       "    }\n",
       "\n",
       "    .dataframe tbody tr th {\n",
       "        vertical-align: top;\n",
       "    }\n",
       "\n",
       "    .dataframe thead th {\n",
       "        text-align: right;\n",
       "    }\n",
       "</style>\n",
       "<table border=\"1\" class=\"dataframe\">\n",
       "  <thead>\n",
       "    <tr style=\"text-align: right;\">\n",
       "      <th></th>\n",
       "      <th>Expanded</th>\n",
       "      <th>GoalCost</th>\n",
       "      <th>Time</th>\n",
       "    </tr>\n",
       "  </thead>\n",
       "  <tbody>\n",
       "    <tr>\n",
       "      <th>count</th>\n",
       "      <td>1.000000e+02</td>\n",
       "      <td>100.000000</td>\n",
       "      <td>100.000000</td>\n",
       "    </tr>\n",
       "    <tr>\n",
       "      <th>mean</th>\n",
       "      <td>2.424608e+08</td>\n",
       "      <td>53.050000</td>\n",
       "      <td>31.968900</td>\n",
       "    </tr>\n",
       "    <tr>\n",
       "      <th>std</th>\n",
       "      <td>9.587023e+08</td>\n",
       "      <td>5.487129</td>\n",
       "      <td>133.693459</td>\n",
       "    </tr>\n",
       "    <tr>\n",
       "      <th>min</th>\n",
       "      <td>7.442400e+04</td>\n",
       "      <td>41.000000</td>\n",
       "      <td>0.010000</td>\n",
       "    </tr>\n",
       "    <tr>\n",
       "      <th>25%</th>\n",
       "      <td>4.344587e+06</td>\n",
       "      <td>49.750000</td>\n",
       "      <td>0.460000</td>\n",
       "    </tr>\n",
       "    <tr>\n",
       "      <th>50%</th>\n",
       "      <td>2.581199e+07</td>\n",
       "      <td>53.000000</td>\n",
       "      <td>2.805000</td>\n",
       "    </tr>\n",
       "    <tr>\n",
       "      <th>75%</th>\n",
       "      <td>1.217943e+08</td>\n",
       "      <td>57.000000</td>\n",
       "      <td>13.212500</td>\n",
       "    </tr>\n",
       "    <tr>\n",
       "      <th>max</th>\n",
       "      <td>8.856207e+09</td>\n",
       "      <td>66.000000</td>\n",
       "      <td>1250.520000</td>\n",
       "    </tr>\n",
       "  </tbody>\n",
       "</table>\n",
       "</div>"
      ],
      "text/plain": [
       "           Expanded    GoalCost         Time\n",
       "count  1.000000e+02  100.000000   100.000000\n",
       "mean   2.424608e+08   53.050000    31.968900\n",
       "std    9.587023e+08    5.487129   133.693459\n",
       "min    7.442400e+04   41.000000     0.010000\n",
       "25%    4.344587e+06   49.750000     0.460000\n",
       "50%    2.581199e+07   53.000000     2.805000\n",
       "75%    1.217943e+08   57.000000    13.212500\n",
       "max    8.856207e+09   66.000000  1250.520000"
      ]
     },
     "execution_count": 60,
     "metadata": {},
     "output_type": "execute_result"
    }
   ],
   "source": [
    "OptimalUnit_df.describe()"
   ]
  },
  {
   "cell_type": "code",
   "execution_count": 62,
   "id": "7f940e88",
   "metadata": {},
   "outputs": [
    {
     "data": {
      "image/png": "[encoded data removed]",
      "text/plain": [
       "<Figure size 640x480 with 1 Axes>"
      ]
     },
     "metadata": {},
     "output_type": "display_data"
    }
   ],
   "source": [
    "plt.boxplot([IDAstar_df['Time'], BTSUnit_df['Time'], OptimalUnit_df['Time']], showfliers=False)\n",
    "plt.ylabel('Time (seconds)')\n",
    "plt.xticks([1,2,3], ['IDA*', 'BTS', 'Baseline'])\n",
    "plt.show()"
   ]
  },
  {
   "cell_type": "code",
   "execution_count": 66,
   "id": "bf2e5aa9",
   "metadata": {},
   "outputs": [
    {
     "data": {
      "image/png": "[encoded data removed]",
      "text/plain": [
       "<Figure size 640x480 with 1 Axes>"
      ]
     },
     "metadata": {},
     "output_type": "display_data"
    }
   ],
   "source": [
    "plt.boxplot([IDAstar_df['Expanded'], BTSUnit_df['Expanded'], OptimalUnit_df['Expanded']], showfliers=False)\n",
    "plt.ylabel('Node Expansions')\n",
    "plt.xticks([1,2, 3], ['IDA*', 'BTS', 'Baseline'])\n",
    "plt.show()"
   ]
  },
  {
   "cell_type": "code",
   "execution_count": 67,
   "id": "bd2645a9",
   "metadata": {},
   "outputs": [
    {
     "data": {
      "image/png": "[encoded data removed]",
      "text/plain": [
       "<Figure size 640x480 with 1 Axes>"
      ]
     },
     "metadata": {},
     "output_type": "display_data"
    }
   ],
   "source": [
    "out = IDAstar_df['Time'] / OptimalUnit_df['Time']\n",
    "plt.hist(out)\n",
    "plt.ylabel('Number of Instances')\n",
    "plt.xlabel('Time Factor')\n",
    "plt.show()"
   ]
  },
  {
   "cell_type": "markdown",
   "id": "d9f78707",
   "metadata": {},
   "source": [
    "# BTS with non-unit costs"
   ]
  },
  {
   "cell_type": "markdown",
   "id": "aca6c454",
   "metadata": {},
   "source": [
    "## Correctness"
   ]
  },
  {
   "cell_type": "code",
   "execution_count": 34,
   "id": "d68ed47e",
   "metadata": {},
   "outputs": [],
   "source": [
    "for i in range(100):\n",
    "    assert BTSNonUnit_data[i][1] == BTSNonUnitConstWin_data[i][1] == non_unit_optimal_data[i][1]"
   ]
  },
  {
   "cell_type": "markdown",
   "id": "c27fd8de",
   "metadata": {},
   "source": [
    "## Efficiency"
   ]
  },
  {
   "cell_type": "code",
   "execution_count": 40,
   "id": "cfa83a15",
   "metadata": {},
   "outputs": [],
   "source": [
    "BTSNonUnit_df = pd.DataFrame(BTSNonUnit_data, columns=['Expanded', 'GoalCost', 'Time'])\n",
    "BTSNonUnitConstWin_df = pd.DataFrame(BTSNonUnitConstWin_data, columns=['Expanded', 'GoalCost', 'Time'])\n",
    "OptimalNonUnit_df = pd.DataFrame(non_unit_optimal_data, columns=['Expanded', 'GoalCost', 'Time'])"
   ]
  },
  {
   "cell_type": "code",
   "execution_count": 37,
   "id": "3e323ff3",
   "metadata": {},
   "outputs": [
    {
     "data": {
      "text/html": [
       "<div>\n",
       "<style scoped>\n",
       "    .dataframe tbody tr th:only-of-type {\n",
       "        vertical-align: middle;\n",
       "    }\n",
       "\n",
       "    .dataframe tbody tr th {\n",
       "        vertical-align: top;\n",
       "    }\n",
       "\n",
       "    .dataframe thead th {\n",
       "        text-align: right;\n",
       "    }\n",
       "</style>\n",
       "<table border=\"1\" class=\"dataframe\">\n",
       "  <thead>\n",
       "    <tr style=\"text-align: right;\">\n",
       "      <th></th>\n",
       "      <th>Expanded</th>\n",
       "      <th>GoalCost</th>\n",
       "      <th>Time</th>\n",
       "    </tr>\n",
       "  </thead>\n",
       "  <tbody>\n",
       "    <tr>\n",
       "      <th>count</th>\n",
       "      <td>1.000000e+02</td>\n",
       "      <td>100.000000</td>\n",
       "      <td>100.000000</td>\n",
       "    </tr>\n",
       "    <tr>\n",
       "      <th>mean</th>\n",
       "      <td>5.951453e+08</td>\n",
       "      <td>61.334357</td>\n",
       "      <td>546.997869</td>\n",
       "    </tr>\n",
       "    <tr>\n",
       "      <th>std</th>\n",
       "      <td>1.668935e+09</td>\n",
       "      <td>6.223567</td>\n",
       "      <td>1609.659521</td>\n",
       "    </tr>\n",
       "    <tr>\n",
       "      <th>min</th>\n",
       "      <td>5.170890e+05</td>\n",
       "      <td>47.814719</td>\n",
       "      <td>0.423890</td>\n",
       "    </tr>\n",
       "    <tr>\n",
       "      <th>25%</th>\n",
       "      <td>1.362530e+07</td>\n",
       "      <td>57.485186</td>\n",
       "      <td>10.947756</td>\n",
       "    </tr>\n",
       "    <tr>\n",
       "      <th>50%</th>\n",
       "      <td>6.075907e+07</td>\n",
       "      <td>61.619157</td>\n",
       "      <td>48.000806</td>\n",
       "    </tr>\n",
       "    <tr>\n",
       "      <th>75%</th>\n",
       "      <td>3.639104e+08</td>\n",
       "      <td>65.703180</td>\n",
       "      <td>269.550837</td>\n",
       "    </tr>\n",
       "    <tr>\n",
       "      <th>max</th>\n",
       "      <td>1.394143e+10</td>\n",
       "      <td>76.014932</td>\n",
       "      <td>10878.866681</td>\n",
       "    </tr>\n",
       "  </tbody>\n",
       "</table>\n",
       "</div>"
      ],
      "text/plain": [
       "           Expanded    GoalCost          Time\n",
       "count  1.000000e+02  100.000000    100.000000\n",
       "mean   5.951453e+08   61.334357    546.997869\n",
       "std    1.668935e+09    6.223567   1609.659521\n",
       "min    5.170890e+05   47.814719      0.423890\n",
       "25%    1.362530e+07   57.485186     10.947756\n",
       "50%    6.075907e+07   61.619157     48.000806\n",
       "75%    3.639104e+08   65.703180    269.550837\n",
       "max    1.394143e+10   76.014932  10878.866681"
      ]
     },
     "execution_count": 37,
     "metadata": {},
     "output_type": "execute_result"
    }
   ],
   "source": [
    "BTSNonUnit_df.describe()"
   ]
  },
  {
   "cell_type": "code",
   "execution_count": 38,
   "id": "71fbbed2",
   "metadata": {},
   "outputs": [
    {
     "data": {
      "text/html": [
       "<div>\n",
       "<style scoped>\n",
       "    .dataframe tbody tr th:only-of-type {\n",
       "        vertical-align: middle;\n",
       "    }\n",
       "\n",
       "    .dataframe tbody tr th {\n",
       "        vertical-align: top;\n",
       "    }\n",
       "\n",
       "    .dataframe thead th {\n",
       "        text-align: right;\n",
       "    }\n",
       "</style>\n",
       "<table border=\"1\" class=\"dataframe\">\n",
       "  <thead>\n",
       "    <tr style=\"text-align: right;\">\n",
       "      <th></th>\n",
       "      <th>Expanded</th>\n",
       "      <th>GoalCost</th>\n",
       "      <th>Time</th>\n",
       "    </tr>\n",
       "  </thead>\n",
       "  <tbody>\n",
       "    <tr>\n",
       "      <th>count</th>\n",
       "      <td>1.000000e+02</td>\n",
       "      <td>100.000000</td>\n",
       "      <td>100.000000</td>\n",
       "    </tr>\n",
       "    <tr>\n",
       "      <th>mean</th>\n",
       "      <td>1.194576e+09</td>\n",
       "      <td>61.334357</td>\n",
       "      <td>1092.887658</td>\n",
       "    </tr>\n",
       "    <tr>\n",
       "      <th>std</th>\n",
       "      <td>2.493155e+09</td>\n",
       "      <td>6.223567</td>\n",
       "      <td>2712.861046</td>\n",
       "    </tr>\n",
       "    <tr>\n",
       "      <th>min</th>\n",
       "      <td>1.288471e+06</td>\n",
       "      <td>47.814719</td>\n",
       "      <td>1.061934</td>\n",
       "    </tr>\n",
       "    <tr>\n",
       "      <th>25%</th>\n",
       "      <td>4.453436e+07</td>\n",
       "      <td>57.485186</td>\n",
       "      <td>35.249891</td>\n",
       "    </tr>\n",
       "    <tr>\n",
       "      <th>50%</th>\n",
       "      <td>1.749074e+08</td>\n",
       "      <td>61.619157</td>\n",
       "      <td>135.251076</td>\n",
       "    </tr>\n",
       "    <tr>\n",
       "      <th>75%</th>\n",
       "      <td>9.502479e+08</td>\n",
       "      <td>65.703180</td>\n",
       "      <td>751.327729</td>\n",
       "    </tr>\n",
       "    <tr>\n",
       "      <th>max</th>\n",
       "      <td>1.417489e+10</td>\n",
       "      <td>76.014932</td>\n",
       "      <td>17164.313165</td>\n",
       "    </tr>\n",
       "  </tbody>\n",
       "</table>\n",
       "</div>"
      ],
      "text/plain": [
       "           Expanded    GoalCost          Time\n",
       "count  1.000000e+02  100.000000    100.000000\n",
       "mean   1.194576e+09   61.334357   1092.887658\n",
       "std    2.493155e+09    6.223567   2712.861046\n",
       "min    1.288471e+06   47.814719      1.061934\n",
       "25%    4.453436e+07   57.485186     35.249891\n",
       "50%    1.749074e+08   61.619157    135.251076\n",
       "75%    9.502479e+08   65.703180    751.327729\n",
       "max    1.417489e+10   76.014932  17164.313165"
      ]
     },
     "execution_count": 38,
     "metadata": {},
     "output_type": "execute_result"
    }
   ],
   "source": [
    "BTSNonUnitConstWin_df.describe()"
   ]
  },
  {
   "cell_type": "code",
   "execution_count": 41,
   "id": "e1b20699",
   "metadata": {},
   "outputs": [
    {
     "data": {
      "text/html": [
       "<div>\n",
       "<style scoped>\n",
       "    .dataframe tbody tr th:only-of-type {\n",
       "        vertical-align: middle;\n",
       "    }\n",
       "\n",
       "    .dataframe tbody tr th {\n",
       "        vertical-align: top;\n",
       "    }\n",
       "\n",
       "    .dataframe thead th {\n",
       "        text-align: right;\n",
       "    }\n",
       "</style>\n",
       "<table border=\"1\" class=\"dataframe\">\n",
       "  <thead>\n",
       "    <tr style=\"text-align: right;\">\n",
       "      <th></th>\n",
       "      <th>Expanded</th>\n",
       "      <th>GoalCost</th>\n",
       "      <th>Time</th>\n",
       "    </tr>\n",
       "  </thead>\n",
       "  <tbody>\n",
       "    <tr>\n",
       "      <th>count</th>\n",
       "      <td>1.000000e+02</td>\n",
       "      <td>100.000000</td>\n",
       "      <td>100.000000</td>\n",
       "    </tr>\n",
       "    <tr>\n",
       "      <th>mean</th>\n",
       "      <td>6.730514e+08</td>\n",
       "      <td>61.334357</td>\n",
       "      <td>100.093500</td>\n",
       "    </tr>\n",
       "    <tr>\n",
       "      <th>std</th>\n",
       "      <td>2.237464e+09</td>\n",
       "      <td>6.223567</td>\n",
       "      <td>287.717804</td>\n",
       "    </tr>\n",
       "    <tr>\n",
       "      <th>min</th>\n",
       "      <td>5.380560e+05</td>\n",
       "      <td>47.814719</td>\n",
       "      <td>0.070000</td>\n",
       "    </tr>\n",
       "    <tr>\n",
       "      <th>25%</th>\n",
       "      <td>1.483695e+07</td>\n",
       "      <td>57.485186</td>\n",
       "      <td>1.787500</td>\n",
       "    </tr>\n",
       "    <tr>\n",
       "      <th>50%</th>\n",
       "      <td>6.611217e+07</td>\n",
       "      <td>61.619157</td>\n",
       "      <td>8.055000</td>\n",
       "    </tr>\n",
       "    <tr>\n",
       "      <th>75%</th>\n",
       "      <td>3.390898e+08</td>\n",
       "      <td>65.703180</td>\n",
       "      <td>45.277500</td>\n",
       "    </tr>\n",
       "    <tr>\n",
       "      <th>max</th>\n",
       "      <td>1.835286e+10</td>\n",
       "      <td>76.014932</td>\n",
       "      <td>2266.890000</td>\n",
       "    </tr>\n",
       "  </tbody>\n",
       "</table>\n",
       "</div>"
      ],
      "text/plain": [
       "           Expanded    GoalCost         Time\n",
       "count  1.000000e+02  100.000000   100.000000\n",
       "mean   6.730514e+08   61.334357   100.093500\n",
       "std    2.237464e+09    6.223567   287.717804\n",
       "min    5.380560e+05   47.814719     0.070000\n",
       "25%    1.483695e+07   57.485186     1.787500\n",
       "50%    6.611217e+07   61.619157     8.055000\n",
       "75%    3.390898e+08   65.703180    45.277500\n",
       "max    1.835286e+10   76.014932  2266.890000"
      ]
     },
     "execution_count": 41,
     "metadata": {},
     "output_type": "execute_result"
    }
   ],
   "source": [
    "OptimalNonUnit_df.describe()"
   ]
  },
  {
   "cell_type": "code",
   "execution_count": 73,
   "id": "a6dffc66",
   "metadata": {},
   "outputs": [
    {
     "data": {
      "image/png": "[encoded data removed]",
      "text/plain": [
       "<Figure size 640x480 with 1 Axes>"
      ]
     },
     "metadata": {},
     "output_type": "display_data"
    }
   ],
   "source": [
    "plt.boxplot([BTSNonUnit_df['Time'], BTSNonUnitConstWin_df['Time'], OptimalNonUnit_df['Time']], showfliers=False)\n",
    "plt.ylabel('Time (seconds)')\n",
    "plt.xticks([1,2,3], ['Wide Window', 'Exact Window', 'Baseline'])\n",
    "plt.show()"
   ]
  },
  {
   "cell_type": "code",
   "execution_count": 98,
   "id": "1c22de8e",
   "metadata": {},
   "outputs": [
    {
     "data": {
      "image/png": "[encoded data removed]",
      "text/plain": [
       "<Figure size 640x480 with 1 Axes>"
      ]
     },
     "metadata": {},
     "output_type": "display_data"
    }
   ],
   "source": [
    "plt.boxplot([BTSNonUnit_df['Expanded'], BTSNonUnitConstWin_df['Expanded'], OptimalNonUnit_df['Expanded']], showfliers=False)\n",
    "plt.ylabel('Node Expansions')\n",
    "plt.xticks([1,2,3], ['Wide Window', 'Exact Window', 'Baseline'])\n",
    "plt.show()"
   ]
  },
  {
   "cell_type": "code",
   "execution_count": 70,
   "id": "b80e5dfa",
   "metadata": {},
   "outputs": [
    {
     "data": {
      "image/png": "[encoded data removed]",
      "text/plain": [
       "<Figure size 640x480 with 1 Axes>"
      ]
     },
     "metadata": {},
     "output_type": "display_data"
    }
   ],
   "source": [
    "out = BTSNonUnit_df['Time'] / OptimalNonUnit_df['Time']\n",
    "plt.hist(out)\n",
    "plt.ylabel('Number of Instances')\n",
    "plt.xlabel('Time Factor')\n",
    "plt.show()"
   ]
  },
  {
   "cell_type": "markdown",
   "id": "15e8a18d",
   "metadata": {},
   "source": [
    "# IDA* with non-unit costs"
   ]
  },
  {
   "cell_type": "code",
   "execution_count": 133,
   "id": "c062cd24",
   "metadata": {},
   "outputs": [],
   "source": [
    "smallest = heapq.nsmallest(10, BTSNonUnit_data,  key=lambda x: x[2])\n",
    "smallest_indices = sorted([BTSNonUnit_data.index(x) for x in smallest])\n",
    "BTS_smallest_data = [BTSNonUnit_data[i] for i in smallest_indices]\n",
    "Optimal_smallest_data = [non_unit_optimal_data[i] for i in smallest_indices]\n",
    "BTS_smallest_df = pd.DataFrame(BTS_smallest_data, columns=['Expanded', 'GoalCost', 'Time']) \n",
    "Optimal_smallest_df = pd.DataFrame(Optimal_smallest_data, columns=['Expanded', 'GoalCost', 'Time']) \n",
    "IDAstarNonUnit_df = pd.DataFrame(IDAstarNonUnit_data, columns=['Expanded', 'GoalCost', 'Time']) "
   ]
  },
  {
   "cell_type": "code",
   "execution_count": 134,
   "id": "e4fe1da6",
   "metadata": {},
   "outputs": [
    {
     "data": {
      "text/html": [
       "<div>\n",
       "<style scoped>\n",
       "    .dataframe tbody tr th:only-of-type {\n",
       "        vertical-align: middle;\n",
       "    }\n",
       "\n",
       "    .dataframe tbody tr th {\n",
       "        vertical-align: top;\n",
       "    }\n",
       "\n",
       "    .dataframe thead th {\n",
       "        text-align: right;\n",
       "    }\n",
       "</style>\n",
       "<table border=\"1\" class=\"dataframe\">\n",
       "  <thead>\n",
       "    <tr style=\"text-align: right;\">\n",
       "      <th></th>\n",
       "      <th>Expanded</th>\n",
       "      <th>GoalCost</th>\n",
       "      <th>Time</th>\n",
       "    </tr>\n",
       "  </thead>\n",
       "  <tbody>\n",
       "    <tr>\n",
       "      <th>0</th>\n",
       "      <td>1416890</td>\n",
       "      <td>52.315340</td>\n",
       "      <td>1.154662</td>\n",
       "    </tr>\n",
       "    <tr>\n",
       "      <th>1</th>\n",
       "      <td>1470916</td>\n",
       "      <td>53.024290</td>\n",
       "      <td>1.304507</td>\n",
       "    </tr>\n",
       "    <tr>\n",
       "      <th>2</th>\n",
       "      <td>2014644</td>\n",
       "      <td>58.000683</td>\n",
       "      <td>1.603173</td>\n",
       "    </tr>\n",
       "    <tr>\n",
       "      <th>3</th>\n",
       "      <td>613162</td>\n",
       "      <td>49.513122</td>\n",
       "      <td>0.491572</td>\n",
       "    </tr>\n",
       "    <tr>\n",
       "      <th>4</th>\n",
       "      <td>1935476</td>\n",
       "      <td>58.165462</td>\n",
       "      <td>1.547022</td>\n",
       "    </tr>\n",
       "    <tr>\n",
       "      <th>5</th>\n",
       "      <td>517089</td>\n",
       "      <td>47.814719</td>\n",
       "      <td>0.423890</td>\n",
       "    </tr>\n",
       "    <tr>\n",
       "      <th>6</th>\n",
       "      <td>2204603</td>\n",
       "      <td>57.494787</td>\n",
       "      <td>1.742596</td>\n",
       "    </tr>\n",
       "    <tr>\n",
       "      <th>7</th>\n",
       "      <td>551958</td>\n",
       "      <td>48.464344</td>\n",
       "      <td>0.461091</td>\n",
       "    </tr>\n",
       "    <tr>\n",
       "      <th>8</th>\n",
       "      <td>1632178</td>\n",
       "      <td>50.697269</td>\n",
       "      <td>1.256688</td>\n",
       "    </tr>\n",
       "    <tr>\n",
       "      <th>9</th>\n",
       "      <td>1014396</td>\n",
       "      <td>62.059348</td>\n",
       "      <td>0.778367</td>\n",
       "    </tr>\n",
       "  </tbody>\n",
       "</table>\n",
       "</div>"
      ],
      "text/plain": [
       "   Expanded   GoalCost      Time\n",
       "0   1416890  52.315340  1.154662\n",
       "1   1470916  53.024290  1.304507\n",
       "2   2014644  58.000683  1.603173\n",
       "3    613162  49.513122  0.491572\n",
       "4   1935476  58.165462  1.547022\n",
       "5    517089  47.814719  0.423890\n",
       "6   2204603  57.494787  1.742596\n",
       "7    551958  48.464344  0.461091\n",
       "8   1632178  50.697269  1.256688\n",
       "9   1014396  62.059348  0.778367"
      ]
     },
     "execution_count": 134,
     "metadata": {},
     "output_type": "execute_result"
    }
   ],
   "source": [
    "BTS_smallest_df"
   ]
  },
  {
   "cell_type": "code",
   "execution_count": 135,
   "id": "d3709e0b",
   "metadata": {},
   "outputs": [
    {
     "data": {
      "text/html": [
       "<div>\n",
       "<style scoped>\n",
       "    .dataframe tbody tr th:only-of-type {\n",
       "        vertical-align: middle;\n",
       "    }\n",
       "\n",
       "    .dataframe tbody tr th {\n",
       "        vertical-align: top;\n",
       "    }\n",
       "\n",
       "    .dataframe thead th {\n",
       "        text-align: right;\n",
       "    }\n",
       "</style>\n",
       "<table border=\"1\" class=\"dataframe\">\n",
       "  <thead>\n",
       "    <tr style=\"text-align: right;\">\n",
       "      <th></th>\n",
       "      <th>Expanded</th>\n",
       "      <th>GoalCost</th>\n",
       "      <th>Time</th>\n",
       "    </tr>\n",
       "  </thead>\n",
       "  <tbody>\n",
       "    <tr>\n",
       "      <th>0</th>\n",
       "      <td>114632606</td>\n",
       "      <td>52.315340</td>\n",
       "      <td>91.679124</td>\n",
       "    </tr>\n",
       "    <tr>\n",
       "      <th>1</th>\n",
       "      <td>294985941</td>\n",
       "      <td>53.024290</td>\n",
       "      <td>243.194770</td>\n",
       "    </tr>\n",
       "    <tr>\n",
       "      <th>2</th>\n",
       "      <td>565177688</td>\n",
       "      <td>58.000683</td>\n",
       "      <td>458.057134</td>\n",
       "    </tr>\n",
       "    <tr>\n",
       "      <th>3</th>\n",
       "      <td>276775765</td>\n",
       "      <td>49.513122</td>\n",
       "      <td>219.584285</td>\n",
       "    </tr>\n",
       "    <tr>\n",
       "      <th>4</th>\n",
       "      <td>453805521</td>\n",
       "      <td>58.165462</td>\n",
       "      <td>360.908887</td>\n",
       "    </tr>\n",
       "    <tr>\n",
       "      <th>5</th>\n",
       "      <td>191288672</td>\n",
       "      <td>47.814719</td>\n",
       "      <td>156.292170</td>\n",
       "    </tr>\n",
       "    <tr>\n",
       "      <th>6</th>\n",
       "      <td>672283735</td>\n",
       "      <td>57.494787</td>\n",
       "      <td>531.248395</td>\n",
       "    </tr>\n",
       "    <tr>\n",
       "      <th>7</th>\n",
       "      <td>209677924</td>\n",
       "      <td>48.464344</td>\n",
       "      <td>165.952296</td>\n",
       "    </tr>\n",
       "    <tr>\n",
       "      <th>8</th>\n",
       "      <td>275265554</td>\n",
       "      <td>50.697269</td>\n",
       "      <td>218.729915</td>\n",
       "    </tr>\n",
       "    <tr>\n",
       "      <th>9</th>\n",
       "      <td>74825738</td>\n",
       "      <td>62.059348</td>\n",
       "      <td>59.804999</td>\n",
       "    </tr>\n",
       "  </tbody>\n",
       "</table>\n",
       "</div>"
      ],
      "text/plain": [
       "    Expanded   GoalCost        Time\n",
       "0  114632606  52.315340   91.679124\n",
       "1  294985941  53.024290  243.194770\n",
       "2  565177688  58.000683  458.057134\n",
       "3  276775765  49.513122  219.584285\n",
       "4  453805521  58.165462  360.908887\n",
       "5  191288672  47.814719  156.292170\n",
       "6  672283735  57.494787  531.248395\n",
       "7  209677924  48.464344  165.952296\n",
       "8  275265554  50.697269  218.729915\n",
       "9   74825738  62.059348   59.804999"
      ]
     },
     "execution_count": 135,
     "metadata": {},
     "output_type": "execute_result"
    }
   ],
   "source": [
    "IDAstarNonUnit_df"
   ]
  },
  {
   "cell_type": "code",
   "execution_count": 136,
   "id": "b096a23f",
   "metadata": {},
   "outputs": [
    {
     "data": {
      "text/html": [
       "<div>\n",
       "<style scoped>\n",
       "    .dataframe tbody tr th:only-of-type {\n",
       "        vertical-align: middle;\n",
       "    }\n",
       "\n",
       "    .dataframe tbody tr th {\n",
       "        vertical-align: top;\n",
       "    }\n",
       "\n",
       "    .dataframe thead th {\n",
       "        text-align: right;\n",
       "    }\n",
       "</style>\n",
       "<table border=\"1\" class=\"dataframe\">\n",
       "  <thead>\n",
       "    <tr style=\"text-align: right;\">\n",
       "      <th></th>\n",
       "      <th>Expanded</th>\n",
       "      <th>GoalCost</th>\n",
       "      <th>Time</th>\n",
       "    </tr>\n",
       "  </thead>\n",
       "  <tbody>\n",
       "    <tr>\n",
       "      <th>0</th>\n",
       "      <td>874216</td>\n",
       "      <td>52.315340</td>\n",
       "      <td>0.11</td>\n",
       "    </tr>\n",
       "    <tr>\n",
       "      <th>1</th>\n",
       "      <td>2001761</td>\n",
       "      <td>53.024290</td>\n",
       "      <td>0.25</td>\n",
       "    </tr>\n",
       "    <tr>\n",
       "      <th>2</th>\n",
       "      <td>2167922</td>\n",
       "      <td>58.000683</td>\n",
       "      <td>0.26</td>\n",
       "    </tr>\n",
       "    <tr>\n",
       "      <th>3</th>\n",
       "      <td>602068</td>\n",
       "      <td>49.513122</td>\n",
       "      <td>0.07</td>\n",
       "    </tr>\n",
       "    <tr>\n",
       "      <th>4</th>\n",
       "      <td>1809509</td>\n",
       "      <td>58.165462</td>\n",
       "      <td>0.22</td>\n",
       "    </tr>\n",
       "    <tr>\n",
       "      <th>5</th>\n",
       "      <td>538056</td>\n",
       "      <td>47.814719</td>\n",
       "      <td>0.07</td>\n",
       "    </tr>\n",
       "    <tr>\n",
       "      <th>6</th>\n",
       "      <td>2578661</td>\n",
       "      <td>57.494787</td>\n",
       "      <td>0.32</td>\n",
       "    </tr>\n",
       "    <tr>\n",
       "      <th>7</th>\n",
       "      <td>558348</td>\n",
       "      <td>48.464344</td>\n",
       "      <td>0.07</td>\n",
       "    </tr>\n",
       "    <tr>\n",
       "      <th>8</th>\n",
       "      <td>1857438</td>\n",
       "      <td>50.697269</td>\n",
       "      <td>0.23</td>\n",
       "    </tr>\n",
       "    <tr>\n",
       "      <th>9</th>\n",
       "      <td>1915839</td>\n",
       "      <td>62.059348</td>\n",
       "      <td>0.23</td>\n",
       "    </tr>\n",
       "  </tbody>\n",
       "</table>\n",
       "</div>"
      ],
      "text/plain": [
       "   Expanded   GoalCost  Time\n",
       "0    874216  52.315340  0.11\n",
       "1   2001761  53.024290  0.25\n",
       "2   2167922  58.000683  0.26\n",
       "3    602068  49.513122  0.07\n",
       "4   1809509  58.165462  0.22\n",
       "5    538056  47.814719  0.07\n",
       "6   2578661  57.494787  0.32\n",
       "7    558348  48.464344  0.07\n",
       "8   1857438  50.697269  0.23\n",
       "9   1915839  62.059348  0.23"
      ]
     },
     "execution_count": 136,
     "metadata": {},
     "output_type": "execute_result"
    }
   ],
   "source": [
    "Optimal_smallest_df"
   ]
  },
  {
   "cell_type": "markdown",
   "id": "0680221c",
   "metadata": {},
   "source": [
    "## Correctness"
   ]
  },
  {
   "cell_type": "code",
   "execution_count": 137,
   "id": "cc634e8d",
   "metadata": {},
   "outputs": [],
   "source": [
    "for i in range(10):\n",
    "    assert IDAstarNonUnit_data[i][1] == BTS_smallest_data[i][1] == Optimal_smallest_data[i][1]"
   ]
  },
  {
   "cell_type": "markdown",
   "id": "22cbc073",
   "metadata": {},
   "source": [
    "## Efficiency"
   ]
  },
  {
   "cell_type": "code",
   "execution_count": 124,
   "id": "9c9e89d3",
   "metadata": {},
   "outputs": [
    {
     "data": {
      "text/html": [
       "<div>\n",
       "<style scoped>\n",
       "    .dataframe tbody tr th:only-of-type {\n",
       "        vertical-align: middle;\n",
       "    }\n",
       "\n",
       "    .dataframe tbody tr th {\n",
       "        vertical-align: top;\n",
       "    }\n",
       "\n",
       "    .dataframe thead th {\n",
       "        text-align: right;\n",
       "    }\n",
       "</style>\n",
       "<table border=\"1\" class=\"dataframe\">\n",
       "  <thead>\n",
       "    <tr style=\"text-align: right;\">\n",
       "      <th></th>\n",
       "      <th>Expanded</th>\n",
       "      <th>GoalCost</th>\n",
       "      <th>Time</th>\n",
       "    </tr>\n",
       "  </thead>\n",
       "  <tbody>\n",
       "    <tr>\n",
       "      <th>count</th>\n",
       "      <td>1.000000e+01</td>\n",
       "      <td>10.000000</td>\n",
       "      <td>10.000000</td>\n",
       "    </tr>\n",
       "    <tr>\n",
       "      <th>mean</th>\n",
       "      <td>3.128719e+08</td>\n",
       "      <td>53.754936</td>\n",
       "      <td>250.545198</td>\n",
       "    </tr>\n",
       "    <tr>\n",
       "      <th>std</th>\n",
       "      <td>1.935432e+08</td>\n",
       "      <td>4.872303</td>\n",
       "      <td>154.099642</td>\n",
       "    </tr>\n",
       "    <tr>\n",
       "      <th>min</th>\n",
       "      <td>7.482574e+07</td>\n",
       "      <td>47.814719</td>\n",
       "      <td>59.804999</td>\n",
       "    </tr>\n",
       "    <tr>\n",
       "      <th>25%</th>\n",
       "      <td>1.958860e+08</td>\n",
       "      <td>49.809159</td>\n",
       "      <td>158.707201</td>\n",
       "    </tr>\n",
       "    <tr>\n",
       "      <th>50%</th>\n",
       "      <td>2.760207e+08</td>\n",
       "      <td>52.669815</td>\n",
       "      <td>219.157100</td>\n",
       "    </tr>\n",
       "    <tr>\n",
       "      <th>75%</th>\n",
       "      <td>4.141006e+08</td>\n",
       "      <td>57.874209</td>\n",
       "      <td>331.480358</td>\n",
       "    </tr>\n",
       "    <tr>\n",
       "      <th>max</th>\n",
       "      <td>6.722837e+08</td>\n",
       "      <td>62.059348</td>\n",
       "      <td>531.248395</td>\n",
       "    </tr>\n",
       "  </tbody>\n",
       "</table>\n",
       "</div>"
      ],
      "text/plain": [
       "           Expanded   GoalCost        Time\n",
       "count  1.000000e+01  10.000000   10.000000\n",
       "mean   3.128719e+08  53.754936  250.545198\n",
       "std    1.935432e+08   4.872303  154.099642\n",
       "min    7.482574e+07  47.814719   59.804999\n",
       "25%    1.958860e+08  49.809159  158.707201\n",
       "50%    2.760207e+08  52.669815  219.157100\n",
       "75%    4.141006e+08  57.874209  331.480358\n",
       "max    6.722837e+08  62.059348  531.248395"
      ]
     },
     "execution_count": 124,
     "metadata": {},
     "output_type": "execute_result"
    }
   ],
   "source": [
    "IDAstarNonUnit_df.describe()"
   ]
  },
  {
   "cell_type": "code",
   "execution_count": 125,
   "id": "0df144f3",
   "metadata": {},
   "outputs": [
    {
     "data": {
      "text/html": [
       "<div>\n",
       "<style scoped>\n",
       "    .dataframe tbody tr th:only-of-type {\n",
       "        vertical-align: middle;\n",
       "    }\n",
       "\n",
       "    .dataframe tbody tr th {\n",
       "        vertical-align: top;\n",
       "    }\n",
       "\n",
       "    .dataframe thead th {\n",
       "        text-align: right;\n",
       "    }\n",
       "</style>\n",
       "<table border=\"1\" class=\"dataframe\">\n",
       "  <thead>\n",
       "    <tr style=\"text-align: right;\">\n",
       "      <th></th>\n",
       "      <th>Expanded</th>\n",
       "      <th>GoalCost</th>\n",
       "      <th>Time</th>\n",
       "    </tr>\n",
       "  </thead>\n",
       "  <tbody>\n",
       "    <tr>\n",
       "      <th>count</th>\n",
       "      <td>1.000000e+01</td>\n",
       "      <td>10.000000</td>\n",
       "      <td>10.000000</td>\n",
       "    </tr>\n",
       "    <tr>\n",
       "      <th>mean</th>\n",
       "      <td>1.337131e+06</td>\n",
       "      <td>53.754936</td>\n",
       "      <td>1.076357</td>\n",
       "    </tr>\n",
       "    <tr>\n",
       "      <th>std</th>\n",
       "      <td>6.322900e+05</td>\n",
       "      <td>4.872303</td>\n",
       "      <td>0.502071</td>\n",
       "    </tr>\n",
       "    <tr>\n",
       "      <th>min</th>\n",
       "      <td>5.170890e+05</td>\n",
       "      <td>47.814719</td>\n",
       "      <td>0.423890</td>\n",
       "    </tr>\n",
       "    <tr>\n",
       "      <th>25%</th>\n",
       "      <td>7.134705e+05</td>\n",
       "      <td>49.809159</td>\n",
       "      <td>0.563271</td>\n",
       "    </tr>\n",
       "    <tr>\n",
       "      <th>50%</th>\n",
       "      <td>1.443903e+06</td>\n",
       "      <td>52.669815</td>\n",
       "      <td>1.205675</td>\n",
       "    </tr>\n",
       "    <tr>\n",
       "      <th>75%</th>\n",
       "      <td>1.859652e+06</td>\n",
       "      <td>57.874209</td>\n",
       "      <td>1.486393</td>\n",
       "    </tr>\n",
       "    <tr>\n",
       "      <th>max</th>\n",
       "      <td>2.204603e+06</td>\n",
       "      <td>62.059348</td>\n",
       "      <td>1.742596</td>\n",
       "    </tr>\n",
       "  </tbody>\n",
       "</table>\n",
       "</div>"
      ],
      "text/plain": [
       "           Expanded   GoalCost       Time\n",
       "count  1.000000e+01  10.000000  10.000000\n",
       "mean   1.337131e+06  53.754936   1.076357\n",
       "std    6.322900e+05   4.872303   0.502071\n",
       "min    5.170890e+05  47.814719   0.423890\n",
       "25%    7.134705e+05  49.809159   0.563271\n",
       "50%    1.443903e+06  52.669815   1.205675\n",
       "75%    1.859652e+06  57.874209   1.486393\n",
       "max    2.204603e+06  62.059348   1.742596"
      ]
     },
     "execution_count": 125,
     "metadata": {},
     "output_type": "execute_result"
    }
   ],
   "source": [
    "BTS_smallest_df.describe()"
   ]
  },
  {
   "cell_type": "code",
   "execution_count": 138,
   "id": "e451e571",
   "metadata": {},
   "outputs": [
    {
     "data": {
      "text/html": [
       "<div>\n",
       "<style scoped>\n",
       "    .dataframe tbody tr th:only-of-type {\n",
       "        vertical-align: middle;\n",
       "    }\n",
       "\n",
       "    .dataframe tbody tr th {\n",
       "        vertical-align: top;\n",
       "    }\n",
       "\n",
       "    .dataframe thead th {\n",
       "        text-align: right;\n",
       "    }\n",
       "</style>\n",
       "<table border=\"1\" class=\"dataframe\">\n",
       "  <thead>\n",
       "    <tr style=\"text-align: right;\">\n",
       "      <th></th>\n",
       "      <th>Expanded</th>\n",
       "      <th>GoalCost</th>\n",
       "      <th>Time</th>\n",
       "    </tr>\n",
       "  </thead>\n",
       "  <tbody>\n",
       "    <tr>\n",
       "      <th>count</th>\n",
       "      <td>1.000000e+01</td>\n",
       "      <td>10.000000</td>\n",
       "      <td>10.000000</td>\n",
       "    </tr>\n",
       "    <tr>\n",
       "      <th>mean</th>\n",
       "      <td>1.490382e+06</td>\n",
       "      <td>53.754936</td>\n",
       "      <td>0.183000</td>\n",
       "    </tr>\n",
       "    <tr>\n",
       "      <th>std</th>\n",
       "      <td>7.649895e+05</td>\n",
       "      <td>4.872303</td>\n",
       "      <td>0.093458</td>\n",
       "    </tr>\n",
       "    <tr>\n",
       "      <th>min</th>\n",
       "      <td>5.380560e+05</td>\n",
       "      <td>47.814719</td>\n",
       "      <td>0.070000</td>\n",
       "    </tr>\n",
       "    <tr>\n",
       "      <th>25%</th>\n",
       "      <td>6.701050e+05</td>\n",
       "      <td>49.809159</td>\n",
       "      <td>0.080000</td>\n",
       "    </tr>\n",
       "    <tr>\n",
       "      <th>50%</th>\n",
       "      <td>1.833474e+06</td>\n",
       "      <td>52.669815</td>\n",
       "      <td>0.225000</td>\n",
       "    </tr>\n",
       "    <tr>\n",
       "      <th>75%</th>\n",
       "      <td>1.980280e+06</td>\n",
       "      <td>57.874209</td>\n",
       "      <td>0.245000</td>\n",
       "    </tr>\n",
       "    <tr>\n",
       "      <th>max</th>\n",
       "      <td>2.578661e+06</td>\n",
       "      <td>62.059348</td>\n",
       "      <td>0.320000</td>\n",
       "    </tr>\n",
       "  </tbody>\n",
       "</table>\n",
       "</div>"
      ],
      "text/plain": [
       "           Expanded   GoalCost       Time\n",
       "count  1.000000e+01  10.000000  10.000000\n",
       "mean   1.490382e+06  53.754936   0.183000\n",
       "std    7.649895e+05   4.872303   0.093458\n",
       "min    5.380560e+05  47.814719   0.070000\n",
       "25%    6.701050e+05  49.809159   0.080000\n",
       "50%    1.833474e+06  52.669815   0.225000\n",
       "75%    1.980280e+06  57.874209   0.245000\n",
       "max    2.578661e+06  62.059348   0.320000"
      ]
     },
     "execution_count": 138,
     "metadata": {},
     "output_type": "execute_result"
    }
   ],
   "source": [
    "Optimal_smallest_df.describe()"
   ]
  },
  {
   "cell_type": "code",
   "execution_count": 120,
   "id": "83c48774",
   "metadata": {},
   "outputs": [
    {
     "data": {
      "image/png": "[encoded data removed]",
      "text/plain": [
       "<Figure size 640x480 with 1 Axes>"
      ]
     },
     "metadata": {},
     "output_type": "display_data"
    }
   ],
   "source": [
    "plt.boxplot([IDAstarNonUnit_df['Time'], BTS_smallest_df['Time']], showfliers=False)\n",
    "plt.ylabel('Time (seconds)')\n",
    "plt.xticks([1,2], ['IDA*', 'BTS'])\n",
    "plt.show()"
   ]
  },
  {
   "cell_type": "code",
   "execution_count": 122,
   "id": "52b20ed2",
   "metadata": {},
   "outputs": [
    {
     "data": {
      "image/png": "[encoded data removed]",
      "text/plain": [
       "<Figure size 640x480 with 1 Axes>"
      ]
     },
     "metadata": {},
     "output_type": "display_data"
    }
   ],
   "source": [
    "plt.boxplot([IDAstarNonUnit_df['Expanded'], BTS_smallest_df['Expanded']], showfliers=False)\n",
    "plt.ylabel('Node Expansions')\n",
    "plt.xticks([1,2], ['IDA*', 'BTS'])\n",
    "plt.show()"
   ]
  },
  {
   "cell_type": "code",
   "execution_count": 126,
   "id": "45a591b2",
   "metadata": {},
   "outputs": [
    {
     "data": {
      "text/plain": [
       "251.59039993689066"
      ]
     },
     "execution_count": 126,
     "metadata": {},
     "output_type": "execute_result"
    }
   ],
   "source": [
    "out = IDAstarNonUnit_df['Time']/ BTS_smallest_df['Time']\n",
    "out.mean()"
   ]
  },
  {
   "cell_type": "code",
   "execution_count": 127,
   "id": "8828d533",
   "metadata": {},
   "outputs": [
    {
     "data": {
      "text/plain": [
       "254.50154676812176"
      ]
     },
     "execution_count": 127,
     "metadata": {},
     "output_type": "execute_result"
    }
   ],
   "source": [
    "out = IDAstarNonUnit_df['Expanded']/ BTS_smallest_df['Expanded']\n",
    "out.mean()"
   ]
  },
  {
   "cell_type": "code",
   "execution_count": null,
   "id": "3c29e0da",
   "metadata": {},
   "outputs": [],
   "source": []
  }
 ],
 "metadata": {
  "kernelspec": {
   "display_name": "Python 3 (ipykernel)",
   "language": "python",
   "name": "python3"
  },
  "language_info": {
   "codemirror_mode": {
    "name": "ipython",
    "version": 3
   },
   "file_extension": ".py",
   "mimetype": "text/x-python",
   "name": "python",
   "nbconvert_exporter": "python",
   "pygments_lexer": "ipython3",
   "version": "3.10.6"
  }
 },
 "nbformat": 4,
 "nbformat_minor": 5
}
